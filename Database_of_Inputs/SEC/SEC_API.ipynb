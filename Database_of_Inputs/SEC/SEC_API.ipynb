{
 "cells": [
  {
   "cell_type": "code",
   "execution_count": 13,
   "metadata": {},
   "outputs": [],
   "source": [
    "# Coding Source: https://medium.datadriveninvestor.com/access-companies-sec-filings-using-python-760e6075d3ad\n",
    "import requests\n",
    "import pandas as pd"
   ]
  },
  {
   "cell_type": "code",
   "execution_count": 14,
   "metadata": {},
   "outputs": [],
   "source": [
    "# SEC API does not require any specific authentication keys or mechanism, except an email address in the User-Agent header of the HTTP requests to prove that the caller is not a robot \n",
    "headers = {'User-Agent': \"connorchen7@gmail.com\"}"
   ]
  },
  {
   "cell_type": "code",
   "execution_count": 23,
   "metadata": {},
   "outputs": [],
   "source": [
    "# SEC indexes companies by a 10-digit Central Index Key (CIK)\n",
    "tickers_cik = requests.get(\"https://www.sec.gov/files/company_tickers.json\", headers=headers)"
   ]
  },
  {
   "cell_type": "code",
   "execution_count": 24,
   "metadata": {},
   "outputs": [
    {
     "data": {
      "text/plain": [
       "<Response [200]>"
      ]
     },
     "execution_count": 24,
     "metadata": {},
     "output_type": "execute_result"
    }
   ],
   "source": [
    "tickers_cik"
   ]
  },
  {
   "cell_type": "code",
   "execution_count": 25,
   "metadata": {},
   "outputs": [],
   "source": [
    "# Convert Json output to pd dataframe\n",
    "tickers_cik = pd.json_normalize(pd.json_normalize(tickers_cik.json(),max_level=0).values[0])"
   ]
  },
  {
   "cell_type": "code",
   "execution_count": 26,
   "metadata": {},
   "outputs": [],
   "source": [
    "# expand CIK to 10 digit number\n",
    "tickers_cik[\"cik_str\"] = tickers_cik[\"cik_str\"].astype(str).str.zfill(10)"
   ]
  },
  {
   "cell_type": "code",
   "execution_count": 27,
   "metadata": {},
   "outputs": [],
   "source": [
    "# Set Ticker to be index column\n",
    "tickers_cik.set_index(\"ticker\",inplace=True)\n"
   ]
  },
  {
   "cell_type": "code",
   "execution_count": 28,
   "metadata": {},
   "outputs": [
    {
     "data": {
      "text/html": [
       "<div>\n",
       "<style scoped>\n",
       "    .dataframe tbody tr th:only-of-type {\n",
       "        vertical-align: middle;\n",
       "    }\n",
       "\n",
       "    .dataframe tbody tr th {\n",
       "        vertical-align: top;\n",
       "    }\n",
       "\n",
       "    .dataframe thead th {\n",
       "        text-align: right;\n",
       "    }\n",
       "</style>\n",
       "<table border=\"1\" class=\"dataframe\">\n",
       "  <thead>\n",
       "    <tr style=\"text-align: right;\">\n",
       "      <th></th>\n",
       "      <th>cik_str</th>\n",
       "      <th>title</th>\n",
       "    </tr>\n",
       "    <tr>\n",
       "      <th>ticker</th>\n",
       "      <th></th>\n",
       "      <th></th>\n",
       "    </tr>\n",
       "  </thead>\n",
       "  <tbody>\n",
       "    <tr>\n",
       "      <th>AAPL</th>\n",
       "      <td>0000320193</td>\n",
       "      <td>Apple Inc.</td>\n",
       "    </tr>\n",
       "    <tr>\n",
       "      <th>MSFT</th>\n",
       "      <td>0000789019</td>\n",
       "      <td>MICROSOFT CORP</td>\n",
       "    </tr>\n",
       "    <tr>\n",
       "      <th>BRK-B</th>\n",
       "      <td>0001067983</td>\n",
       "      <td>BERKSHIRE HATHAWAY INC</td>\n",
       "    </tr>\n",
       "    <tr>\n",
       "      <th>UNH</th>\n",
       "      <td>0000731766</td>\n",
       "      <td>UNITEDHEALTH GROUP INC</td>\n",
       "    </tr>\n",
       "    <tr>\n",
       "      <th>JNJ</th>\n",
       "      <td>0000200406</td>\n",
       "      <td>JOHNSON &amp; JOHNSON</td>\n",
       "    </tr>\n",
       "    <tr>\n",
       "      <th>...</th>\n",
       "      <td>...</td>\n",
       "      <td>...</td>\n",
       "    </tr>\n",
       "    <tr>\n",
       "      <th>MTVC-UN</th>\n",
       "      <td>0001885754</td>\n",
       "      <td>Motive Capital Corp II</td>\n",
       "    </tr>\n",
       "    <tr>\n",
       "      <th>MTVC-WT</th>\n",
       "      <td>0001885754</td>\n",
       "      <td>Motive Capital Corp II</td>\n",
       "    </tr>\n",
       "    <tr>\n",
       "      <th>KALWW</th>\n",
       "      <td>0001909152</td>\n",
       "      <td>Kalera Public Ltd Co</td>\n",
       "    </tr>\n",
       "    <tr>\n",
       "      <th>BRSHW</th>\n",
       "      <td>0001913210</td>\n",
       "      <td>Bruush Oral Care Inc.</td>\n",
       "    </tr>\n",
       "    <tr>\n",
       "      <th>NAMSW</th>\n",
       "      <td>0001936258</td>\n",
       "      <td>NewAmsterdam Pharma Co N.V.</td>\n",
       "    </tr>\n",
       "  </tbody>\n",
       "</table>\n",
       "<p>11611 rows × 2 columns</p>\n",
       "</div>"
      ],
      "text/plain": [
       "            cik_str                        title\n",
       "ticker                                          \n",
       "AAPL     0000320193                   Apple Inc.\n",
       "MSFT     0000789019               MICROSOFT CORP\n",
       "BRK-B    0001067983       BERKSHIRE HATHAWAY INC\n",
       "UNH      0000731766       UNITEDHEALTH GROUP INC\n",
       "JNJ      0000200406            JOHNSON & JOHNSON\n",
       "...             ...                          ...\n",
       "MTVC-UN  0001885754       Motive Capital Corp II\n",
       "MTVC-WT  0001885754       Motive Capital Corp II\n",
       "KALWW    0001909152         Kalera Public Ltd Co\n",
       "BRSHW    0001913210        Bruush Oral Care Inc.\n",
       "NAMSW    0001936258  NewAmsterdam Pharma Co N.V.\n",
       "\n",
       "[11611 rows x 2 columns]"
      ]
     },
     "execution_count": 28,
     "metadata": {},
     "output_type": "execute_result"
    }
   ],
   "source": [
    "tickers_cik"
   ]
  },
  {
   "cell_type": "code",
   "execution_count": 29,
   "metadata": {},
   "outputs": [],
   "source": [
    "# Having the CIK number of a company of interest, one is now able to query the financial data reported by that company, using the companyconcept path of the SEC API [8] and the following HTTP scheme: https://data.sec.gov/api/xbrl/companyconcept/[CIK]/us-gaap/[Tag].json,\n",
    "# where: CIK is the CIK number of the company, Tag is a tag from the US-GAAP taxonomy. The US-GAAP taxonomy is a collection of eXtensible Business Reporting (XBRL) tags used by companies for labeling financial data and reporting it to the SEC.\n",
    "# A full list of tags of the 2019 version of the taxonomy is available here: https://xbrlsite.azurewebsites.net/2019/Prototype/references/us-gaap/\n",
    "\n",
    "response = requests.get(\"https://data.sec.gov/api/xbrl/companyconcept/CIK0000320193/us-gaap/Assets.json\", headers=headers)"
   ]
  },
  {
   "cell_type": "code",
   "execution_count": 30,
   "metadata": {},
   "outputs": [
    {
     "data": {
      "text/plain": [
       "<Response [200]>"
      ]
     },
     "execution_count": 30,
     "metadata": {},
     "output_type": "execute_result"
    }
   ],
   "source": [
    "response"
   ]
  },
  {
   "cell_type": "code",
   "execution_count": 31,
   "metadata": {},
   "outputs": [],
   "source": [
    "assets_timeserie = pd.json_normalize(response.json()[\"units\"][\"USD\"])\n",
    "assets_timeserie[\"filed\"] = pd.to_datetime(assets_timeserie[\"filed\"])\n",
    "assets_timeserie = assets_timeserie.sort_values(\"end\")"
   ]
  },
  {
   "cell_type": "code",
   "execution_count": 32,
   "metadata": {},
   "outputs": [
    {
     "data": {
      "text/html": [
       "<div>\n",
       "<style scoped>\n",
       "    .dataframe tbody tr th:only-of-type {\n",
       "        vertical-align: middle;\n",
       "    }\n",
       "\n",
       "    .dataframe tbody tr th {\n",
       "        vertical-align: top;\n",
       "    }\n",
       "\n",
       "    .dataframe thead th {\n",
       "        text-align: right;\n",
       "    }\n",
       "</style>\n",
       "<table border=\"1\" class=\"dataframe\">\n",
       "  <thead>\n",
       "    <tr style=\"text-align: right;\">\n",
       "      <th></th>\n",
       "      <th>end</th>\n",
       "      <th>val</th>\n",
       "      <th>accn</th>\n",
       "      <th>fy</th>\n",
       "      <th>fp</th>\n",
       "      <th>form</th>\n",
       "      <th>filed</th>\n",
       "      <th>frame</th>\n",
       "    </tr>\n",
       "  </thead>\n",
       "  <tbody>\n",
       "    <tr>\n",
       "      <th>0</th>\n",
       "      <td>2008-09-27</td>\n",
       "      <td>39572000000</td>\n",
       "      <td>0001193125-09-153165</td>\n",
       "      <td>2009</td>\n",
       "      <td>Q3</td>\n",
       "      <td>10-Q</td>\n",
       "      <td>2009-07-22</td>\n",
       "      <td>NaN</td>\n",
       "    </tr>\n",
       "    <tr>\n",
       "      <th>1</th>\n",
       "      <td>2008-09-27</td>\n",
       "      <td>39572000000</td>\n",
       "      <td>0001193125-09-214859</td>\n",
       "      <td>2009</td>\n",
       "      <td>FY</td>\n",
       "      <td>10-K</td>\n",
       "      <td>2009-10-27</td>\n",
       "      <td>NaN</td>\n",
       "    </tr>\n",
       "    <tr>\n",
       "      <th>2</th>\n",
       "      <td>2008-09-27</td>\n",
       "      <td>36171000000</td>\n",
       "      <td>0001193125-10-012091</td>\n",
       "      <td>2009</td>\n",
       "      <td>FY</td>\n",
       "      <td>10-K/A</td>\n",
       "      <td>2010-01-25</td>\n",
       "      <td>NaN</td>\n",
       "    </tr>\n",
       "    <tr>\n",
       "      <th>3</th>\n",
       "      <td>2008-09-27</td>\n",
       "      <td>36171000000</td>\n",
       "      <td>0001193125-10-238044</td>\n",
       "      <td>2010</td>\n",
       "      <td>FY</td>\n",
       "      <td>10-K</td>\n",
       "      <td>2010-10-27</td>\n",
       "      <td>CY2008Q3I</td>\n",
       "    </tr>\n",
       "    <tr>\n",
       "      <th>4</th>\n",
       "      <td>2009-06-27</td>\n",
       "      <td>48140000000</td>\n",
       "      <td>0001193125-09-153165</td>\n",
       "      <td>2009</td>\n",
       "      <td>Q3</td>\n",
       "      <td>10-Q</td>\n",
       "      <td>2009-07-22</td>\n",
       "      <td>CY2009Q2I</td>\n",
       "    </tr>\n",
       "    <tr>\n",
       "      <th>...</th>\n",
       "      <td>...</td>\n",
       "      <td>...</td>\n",
       "      <td>...</td>\n",
       "      <td>...</td>\n",
       "      <td>...</td>\n",
       "      <td>...</td>\n",
       "      <td>...</td>\n",
       "      <td>...</td>\n",
       "    </tr>\n",
       "    <tr>\n",
       "      <th>111</th>\n",
       "      <td>2021-09-25</td>\n",
       "      <td>351002000000</td>\n",
       "      <td>0000320193-22-000108</td>\n",
       "      <td>2022</td>\n",
       "      <td>FY</td>\n",
       "      <td>10-K</td>\n",
       "      <td>2022-10-28</td>\n",
       "      <td>CY2021Q3I</td>\n",
       "    </tr>\n",
       "    <tr>\n",
       "      <th>112</th>\n",
       "      <td>2021-12-25</td>\n",
       "      <td>381191000000</td>\n",
       "      <td>0000320193-22-000007</td>\n",
       "      <td>2022</td>\n",
       "      <td>Q1</td>\n",
       "      <td>10-Q</td>\n",
       "      <td>2022-01-28</td>\n",
       "      <td>CY2021Q4I</td>\n",
       "    </tr>\n",
       "    <tr>\n",
       "      <th>113</th>\n",
       "      <td>2022-03-26</td>\n",
       "      <td>350662000000</td>\n",
       "      <td>0000320193-22-000059</td>\n",
       "      <td>2022</td>\n",
       "      <td>Q2</td>\n",
       "      <td>10-Q</td>\n",
       "      <td>2022-04-29</td>\n",
       "      <td>CY2022Q1I</td>\n",
       "    </tr>\n",
       "    <tr>\n",
       "      <th>114</th>\n",
       "      <td>2022-06-25</td>\n",
       "      <td>336309000000</td>\n",
       "      <td>0000320193-22-000070</td>\n",
       "      <td>2022</td>\n",
       "      <td>Q3</td>\n",
       "      <td>10-Q</td>\n",
       "      <td>2022-07-29</td>\n",
       "      <td>CY2022Q2I</td>\n",
       "    </tr>\n",
       "    <tr>\n",
       "      <th>115</th>\n",
       "      <td>2022-09-24</td>\n",
       "      <td>352755000000</td>\n",
       "      <td>0000320193-22-000108</td>\n",
       "      <td>2022</td>\n",
       "      <td>FY</td>\n",
       "      <td>10-K</td>\n",
       "      <td>2022-10-28</td>\n",
       "      <td>CY2022Q3I</td>\n",
       "    </tr>\n",
       "  </tbody>\n",
       "</table>\n",
       "<p>116 rows × 8 columns</p>\n",
       "</div>"
      ],
      "text/plain": [
       "            end           val                  accn    fy  fp    form  \\\n",
       "0    2008-09-27   39572000000  0001193125-09-153165  2009  Q3    10-Q   \n",
       "1    2008-09-27   39572000000  0001193125-09-214859  2009  FY    10-K   \n",
       "2    2008-09-27   36171000000  0001193125-10-012091  2009  FY  10-K/A   \n",
       "3    2008-09-27   36171000000  0001193125-10-238044  2010  FY    10-K   \n",
       "4    2009-06-27   48140000000  0001193125-09-153165  2009  Q3    10-Q   \n",
       "..          ...           ...                   ...   ...  ..     ...   \n",
       "111  2021-09-25  351002000000  0000320193-22-000108  2022  FY    10-K   \n",
       "112  2021-12-25  381191000000  0000320193-22-000007  2022  Q1    10-Q   \n",
       "113  2022-03-26  350662000000  0000320193-22-000059  2022  Q2    10-Q   \n",
       "114  2022-06-25  336309000000  0000320193-22-000070  2022  Q3    10-Q   \n",
       "115  2022-09-24  352755000000  0000320193-22-000108  2022  FY    10-K   \n",
       "\n",
       "         filed      frame  \n",
       "0   2009-07-22        NaN  \n",
       "1   2009-10-27        NaN  \n",
       "2   2010-01-25        NaN  \n",
       "3   2010-10-27  CY2008Q3I  \n",
       "4   2009-07-22  CY2009Q2I  \n",
       "..         ...        ...  \n",
       "111 2022-10-28  CY2021Q3I  \n",
       "112 2022-01-28  CY2021Q4I  \n",
       "113 2022-04-29  CY2022Q1I  \n",
       "114 2022-07-29  CY2022Q2I  \n",
       "115 2022-10-28  CY2022Q3I  \n",
       "\n",
       "[116 rows x 8 columns]"
      ]
     },
     "execution_count": 32,
     "metadata": {},
     "output_type": "execute_result"
    }
   ],
   "source": [
    "assets_timeserie"
   ]
  },
  {
   "cell_type": "code",
   "execution_count": 40,
   "metadata": {},
   "outputs": [
    {
     "data": {
      "application/vnd.plotly.v1+json": {
       "config": {
        "plotlyServerURL": "https://plot.ly"
       },
       "data": [
        {
         "name": "Total Assets value (USD)",
         "type": "scatter",
         "x": [
          "2008-09-27",
          "2008-09-27",
          "2008-09-27",
          "2008-09-27",
          "2009-06-27",
          "2009-09-26",
          "2009-09-26",
          "2009-09-26",
          "2009-09-26",
          "2009-09-26",
          "2009-09-26",
          "2009-09-26",
          "2009-12-26",
          "2010-03-27",
          "2010-06-26",
          "2010-09-25",
          "2010-09-25",
          "2010-09-25",
          "2010-09-25",
          "2010-09-25",
          "2010-12-25",
          "2011-03-26",
          "2011-06-25",
          "2011-09-24",
          "2011-09-24",
          "2011-09-24",
          "2011-09-24",
          "2011-09-24",
          "2011-09-24",
          "2011-12-31",
          "2012-03-31",
          "2012-06-30",
          "2012-09-29",
          "2012-09-29",
          "2012-09-29",
          "2012-09-29",
          "2012-09-29",
          "2012-09-29",
          "2012-12-29",
          "2013-03-30",
          "2013-06-29",
          "2013-09-28",
          "2013-09-28",
          "2013-09-28",
          "2013-09-28",
          "2013-09-28",
          "2013-09-28",
          "2013-12-28",
          "2014-03-29",
          "2014-06-28",
          "2014-09-27",
          "2014-09-27",
          "2014-09-27",
          "2014-09-27",
          "2014-09-27",
          "2014-09-27",
          "2014-12-27",
          "2015-03-28",
          "2015-06-27",
          "2015-09-26",
          "2015-09-26",
          "2015-09-26",
          "2015-09-26",
          "2015-09-26",
          "2015-12-26",
          "2016-03-26",
          "2016-06-25",
          "2016-09-24",
          "2016-09-24",
          "2016-09-24",
          "2016-09-24",
          "2016-09-24",
          "2016-12-31",
          "2017-04-01",
          "2017-07-01",
          "2017-09-30",
          "2017-09-30",
          "2017-09-30",
          "2017-09-30",
          "2017-09-30",
          "2017-12-30",
          "2018-03-31",
          "2018-06-30",
          "2018-09-29",
          "2018-09-29",
          "2018-09-29",
          "2018-09-29",
          "2018-09-29",
          "2018-12-29",
          "2019-03-30",
          "2019-06-29",
          "2019-09-28",
          "2019-09-28",
          "2019-09-28",
          "2019-09-28",
          "2019-09-28",
          "2019-12-28",
          "2020-03-28",
          "2020-06-27",
          "2020-09-26",
          "2020-09-26",
          "2020-09-26",
          "2020-09-26",
          "2020-09-26",
          "2020-12-26",
          "2021-03-27",
          "2021-06-26",
          "2021-09-25",
          "2021-09-25",
          "2021-09-25",
          "2021-09-25",
          "2021-09-25",
          "2021-12-25",
          "2022-03-26",
          "2022-06-25",
          "2022-09-24"
         ],
         "y": [
          39572000000,
          39572000000,
          36171000000,
          36171000000,
          48140000000,
          53851000000,
          47501000000,
          47501000000,
          47501000000,
          47501000000,
          47501000000,
          47501000000,
          53926000000,
          57057000000,
          64725000000,
          75183000000,
          75183000000,
          75183000000,
          75183000000,
          75183000000,
          86742000000,
          94904000000,
          106758000000,
          116371000000,
          116371000000,
          116371000000,
          116371000000,
          116371000000,
          116371000000,
          138681000000,
          150934000000,
          162896000000,
          176064000000,
          176064000000,
          176064000000,
          176064000000,
          176064000000,
          176064000000,
          196088000000,
          194743000000,
          199856000000,
          207000000000,
          207000000000,
          207000000000,
          207000000000,
          207000000000,
          207000000000,
          225184000000,
          205989000000,
          222520000000,
          231839000000,
          231839000000,
          231839000000,
          231839000000,
          231839000000,
          231839000000,
          261894000000,
          261194000000,
          273151000000,
          290479000000,
          290479000000,
          290479000000,
          290479000000,
          290345000000,
          293284000000,
          305277000000,
          305602000000,
          321686000000,
          321686000000,
          321686000000,
          321686000000,
          321686000000,
          331141000000,
          334532000000,
          345173000000,
          375319000000,
          375319000000,
          375319000000,
          375319000000,
          375319000000,
          406794000000,
          367502000000,
          349197000000,
          365725000000,
          365725000000,
          365725000000,
          365725000000,
          365725000000,
          373719000000,
          341998000000,
          322239000000,
          338516000000,
          338516000000,
          338516000000,
          338516000000,
          338516000000,
          340618000000,
          320400000000,
          317344000000,
          323888000000,
          323888000000,
          323888000000,
          323888000000,
          323888000000,
          354054000000,
          337158000000,
          329840000000,
          351002000000,
          351002000000,
          351002000000,
          351002000000,
          351002000000,
          381191000000,
          350662000000,
          336309000000,
          352755000000
         ]
        }
       ],
       "layout": {
        "height": 700,
        "hovermode": "closest",
        "paper_bgcolor": "white",
        "plot_bgcolor": "#fafafa",
        "showlegend": false,
        "template": {
         "data": {
          "bar": [
           {
            "error_x": {
             "color": "#2a3f5f"
            },
            "error_y": {
             "color": "#2a3f5f"
            },
            "marker": {
             "line": {
              "color": "#E5ECF6",
              "width": 0.5
             },
             "pattern": {
              "fillmode": "overlay",
              "size": 10,
              "solidity": 0.2
             }
            },
            "type": "bar"
           }
          ],
          "barpolar": [
           {
            "marker": {
             "line": {
              "color": "#E5ECF6",
              "width": 0.5
             },
             "pattern": {
              "fillmode": "overlay",
              "size": 10,
              "solidity": 0.2
             }
            },
            "type": "barpolar"
           }
          ],
          "carpet": [
           {
            "aaxis": {
             "endlinecolor": "#2a3f5f",
             "gridcolor": "white",
             "linecolor": "white",
             "minorgridcolor": "white",
             "startlinecolor": "#2a3f5f"
            },
            "baxis": {
             "endlinecolor": "#2a3f5f",
             "gridcolor": "white",
             "linecolor": "white",
             "minorgridcolor": "white",
             "startlinecolor": "#2a3f5f"
            },
            "type": "carpet"
           }
          ],
          "choropleth": [
           {
            "colorbar": {
             "outlinewidth": 0,
             "ticks": ""
            },
            "type": "choropleth"
           }
          ],
          "contour": [
           {
            "colorbar": {
             "outlinewidth": 0,
             "ticks": ""
            },
            "colorscale": [
             [
              0,
              "#0d0887"
             ],
             [
              0.1111111111111111,
              "#46039f"
             ],
             [
              0.2222222222222222,
              "#7201a8"
             ],
             [
              0.3333333333333333,
              "#9c179e"
             ],
             [
              0.4444444444444444,
              "#bd3786"
             ],
             [
              0.5555555555555556,
              "#d8576b"
             ],
             [
              0.6666666666666666,
              "#ed7953"
             ],
             [
              0.7777777777777778,
              "#fb9f3a"
             ],
             [
              0.8888888888888888,
              "#fdca26"
             ],
             [
              1,
              "#f0f921"
             ]
            ],
            "type": "contour"
           }
          ],
          "contourcarpet": [
           {
            "colorbar": {
             "outlinewidth": 0,
             "ticks": ""
            },
            "type": "contourcarpet"
           }
          ],
          "heatmap": [
           {
            "colorbar": {
             "outlinewidth": 0,
             "ticks": ""
            },
            "colorscale": [
             [
              0,
              "#0d0887"
             ],
             [
              0.1111111111111111,
              "#46039f"
             ],
             [
              0.2222222222222222,
              "#7201a8"
             ],
             [
              0.3333333333333333,
              "#9c179e"
             ],
             [
              0.4444444444444444,
              "#bd3786"
             ],
             [
              0.5555555555555556,
              "#d8576b"
             ],
             [
              0.6666666666666666,
              "#ed7953"
             ],
             [
              0.7777777777777778,
              "#fb9f3a"
             ],
             [
              0.8888888888888888,
              "#fdca26"
             ],
             [
              1,
              "#f0f921"
             ]
            ],
            "type": "heatmap"
           }
          ],
          "heatmapgl": [
           {
            "colorbar": {
             "outlinewidth": 0,
             "ticks": ""
            },
            "colorscale": [
             [
              0,
              "#0d0887"
             ],
             [
              0.1111111111111111,
              "#46039f"
             ],
             [
              0.2222222222222222,
              "#7201a8"
             ],
             [
              0.3333333333333333,
              "#9c179e"
             ],
             [
              0.4444444444444444,
              "#bd3786"
             ],
             [
              0.5555555555555556,
              "#d8576b"
             ],
             [
              0.6666666666666666,
              "#ed7953"
             ],
             [
              0.7777777777777778,
              "#fb9f3a"
             ],
             [
              0.8888888888888888,
              "#fdca26"
             ],
             [
              1,
              "#f0f921"
             ]
            ],
            "type": "heatmapgl"
           }
          ],
          "histogram": [
           {
            "marker": {
             "pattern": {
              "fillmode": "overlay",
              "size": 10,
              "solidity": 0.2
             }
            },
            "type": "histogram"
           }
          ],
          "histogram2d": [
           {
            "colorbar": {
             "outlinewidth": 0,
             "ticks": ""
            },
            "colorscale": [
             [
              0,
              "#0d0887"
             ],
             [
              0.1111111111111111,
              "#46039f"
             ],
             [
              0.2222222222222222,
              "#7201a8"
             ],
             [
              0.3333333333333333,
              "#9c179e"
             ],
             [
              0.4444444444444444,
              "#bd3786"
             ],
             [
              0.5555555555555556,
              "#d8576b"
             ],
             [
              0.6666666666666666,
              "#ed7953"
             ],
             [
              0.7777777777777778,
              "#fb9f3a"
             ],
             [
              0.8888888888888888,
              "#fdca26"
             ],
             [
              1,
              "#f0f921"
             ]
            ],
            "type": "histogram2d"
           }
          ],
          "histogram2dcontour": [
           {
            "colorbar": {
             "outlinewidth": 0,
             "ticks": ""
            },
            "colorscale": [
             [
              0,
              "#0d0887"
             ],
             [
              0.1111111111111111,
              "#46039f"
             ],
             [
              0.2222222222222222,
              "#7201a8"
             ],
             [
              0.3333333333333333,
              "#9c179e"
             ],
             [
              0.4444444444444444,
              "#bd3786"
             ],
             [
              0.5555555555555556,
              "#d8576b"
             ],
             [
              0.6666666666666666,
              "#ed7953"
             ],
             [
              0.7777777777777778,
              "#fb9f3a"
             ],
             [
              0.8888888888888888,
              "#fdca26"
             ],
             [
              1,
              "#f0f921"
             ]
            ],
            "type": "histogram2dcontour"
           }
          ],
          "mesh3d": [
           {
            "colorbar": {
             "outlinewidth": 0,
             "ticks": ""
            },
            "type": "mesh3d"
           }
          ],
          "parcoords": [
           {
            "line": {
             "colorbar": {
              "outlinewidth": 0,
              "ticks": ""
             }
            },
            "type": "parcoords"
           }
          ],
          "pie": [
           {
            "automargin": true,
            "type": "pie"
           }
          ],
          "scatter": [
           {
            "fillpattern": {
             "fillmode": "overlay",
             "size": 10,
             "solidity": 0.2
            },
            "type": "scatter"
           }
          ],
          "scatter3d": [
           {
            "line": {
             "colorbar": {
              "outlinewidth": 0,
              "ticks": ""
             }
            },
            "marker": {
             "colorbar": {
              "outlinewidth": 0,
              "ticks": ""
             }
            },
            "type": "scatter3d"
           }
          ],
          "scattercarpet": [
           {
            "marker": {
             "colorbar": {
              "outlinewidth": 0,
              "ticks": ""
             }
            },
            "type": "scattercarpet"
           }
          ],
          "scattergeo": [
           {
            "marker": {
             "colorbar": {
              "outlinewidth": 0,
              "ticks": ""
             }
            },
            "type": "scattergeo"
           }
          ],
          "scattergl": [
           {
            "marker": {
             "colorbar": {
              "outlinewidth": 0,
              "ticks": ""
             }
            },
            "type": "scattergl"
           }
          ],
          "scattermapbox": [
           {
            "marker": {
             "colorbar": {
              "outlinewidth": 0,
              "ticks": ""
             }
            },
            "type": "scattermapbox"
           }
          ],
          "scatterpolar": [
           {
            "marker": {
             "colorbar": {
              "outlinewidth": 0,
              "ticks": ""
             }
            },
            "type": "scatterpolar"
           }
          ],
          "scatterpolargl": [
           {
            "marker": {
             "colorbar": {
              "outlinewidth": 0,
              "ticks": ""
             }
            },
            "type": "scatterpolargl"
           }
          ],
          "scatterternary": [
           {
            "marker": {
             "colorbar": {
              "outlinewidth": 0,
              "ticks": ""
             }
            },
            "type": "scatterternary"
           }
          ],
          "surface": [
           {
            "colorbar": {
             "outlinewidth": 0,
             "ticks": ""
            },
            "colorscale": [
             [
              0,
              "#0d0887"
             ],
             [
              0.1111111111111111,
              "#46039f"
             ],
             [
              0.2222222222222222,
              "#7201a8"
             ],
             [
              0.3333333333333333,
              "#9c179e"
             ],
             [
              0.4444444444444444,
              "#bd3786"
             ],
             [
              0.5555555555555556,
              "#d8576b"
             ],
             [
              0.6666666666666666,
              "#ed7953"
             ],
             [
              0.7777777777777778,
              "#fb9f3a"
             ],
             [
              0.8888888888888888,
              "#fdca26"
             ],
             [
              1,
              "#f0f921"
             ]
            ],
            "type": "surface"
           }
          ],
          "table": [
           {
            "cells": {
             "fill": {
              "color": "#EBF0F8"
             },
             "line": {
              "color": "white"
             }
            },
            "header": {
             "fill": {
              "color": "#C8D4E3"
             },
             "line": {
              "color": "white"
             }
            },
            "type": "table"
           }
          ]
         },
         "layout": {
          "annotationdefaults": {
           "arrowcolor": "#2a3f5f",
           "arrowhead": 0,
           "arrowwidth": 1
          },
          "autotypenumbers": "strict",
          "coloraxis": {
           "colorbar": {
            "outlinewidth": 0,
            "ticks": ""
           }
          },
          "colorscale": {
           "diverging": [
            [
             0,
             "#8e0152"
            ],
            [
             0.1,
             "#c51b7d"
            ],
            [
             0.2,
             "#de77ae"
            ],
            [
             0.3,
             "#f1b6da"
            ],
            [
             0.4,
             "#fde0ef"
            ],
            [
             0.5,
             "#f7f7f7"
            ],
            [
             0.6,
             "#e6f5d0"
            ],
            [
             0.7,
             "#b8e186"
            ],
            [
             0.8,
             "#7fbc41"
            ],
            [
             0.9,
             "#4d9221"
            ],
            [
             1,
             "#276419"
            ]
           ],
           "sequential": [
            [
             0,
             "#0d0887"
            ],
            [
             0.1111111111111111,
             "#46039f"
            ],
            [
             0.2222222222222222,
             "#7201a8"
            ],
            [
             0.3333333333333333,
             "#9c179e"
            ],
            [
             0.4444444444444444,
             "#bd3786"
            ],
            [
             0.5555555555555556,
             "#d8576b"
            ],
            [
             0.6666666666666666,
             "#ed7953"
            ],
            [
             0.7777777777777778,
             "#fb9f3a"
            ],
            [
             0.8888888888888888,
             "#fdca26"
            ],
            [
             1,
             "#f0f921"
            ]
           ],
           "sequentialminus": [
            [
             0,
             "#0d0887"
            ],
            [
             0.1111111111111111,
             "#46039f"
            ],
            [
             0.2222222222222222,
             "#7201a8"
            ],
            [
             0.3333333333333333,
             "#9c179e"
            ],
            [
             0.4444444444444444,
             "#bd3786"
            ],
            [
             0.5555555555555556,
             "#d8576b"
            ],
            [
             0.6666666666666666,
             "#ed7953"
            ],
            [
             0.7777777777777778,
             "#fb9f3a"
            ],
            [
             0.8888888888888888,
             "#fdca26"
            ],
            [
             1,
             "#f0f921"
            ]
           ]
          },
          "colorway": [
           "#636efa",
           "#EF553B",
           "#00cc96",
           "#ab63fa",
           "#FFA15A",
           "#19d3f3",
           "#FF6692",
           "#B6E880",
           "#FF97FF",
           "#FECB52"
          ],
          "font": {
           "color": "#2a3f5f"
          },
          "geo": {
           "bgcolor": "white",
           "lakecolor": "white",
           "landcolor": "#E5ECF6",
           "showlakes": true,
           "showland": true,
           "subunitcolor": "white"
          },
          "hoverlabel": {
           "align": "left"
          },
          "hovermode": "closest",
          "mapbox": {
           "style": "light"
          },
          "paper_bgcolor": "white",
          "plot_bgcolor": "#E5ECF6",
          "polar": {
           "angularaxis": {
            "gridcolor": "white",
            "linecolor": "white",
            "ticks": ""
           },
           "bgcolor": "#E5ECF6",
           "radialaxis": {
            "gridcolor": "white",
            "linecolor": "white",
            "ticks": ""
           }
          },
          "scene": {
           "xaxis": {
            "backgroundcolor": "#E5ECF6",
            "gridcolor": "white",
            "gridwidth": 2,
            "linecolor": "white",
            "showbackground": true,
            "ticks": "",
            "zerolinecolor": "white"
           },
           "yaxis": {
            "backgroundcolor": "#E5ECF6",
            "gridcolor": "white",
            "gridwidth": 2,
            "linecolor": "white",
            "showbackground": true,
            "ticks": "",
            "zerolinecolor": "white"
           },
           "zaxis": {
            "backgroundcolor": "#E5ECF6",
            "gridcolor": "white",
            "gridwidth": 2,
            "linecolor": "white",
            "showbackground": true,
            "ticks": "",
            "zerolinecolor": "white"
           }
          },
          "shapedefaults": {
           "line": {
            "color": "#2a3f5f"
           }
          },
          "ternary": {
           "aaxis": {
            "gridcolor": "white",
            "linecolor": "white",
            "ticks": ""
           },
           "baxis": {
            "gridcolor": "white",
            "linecolor": "white",
            "ticks": ""
           },
           "bgcolor": "#E5ECF6",
           "caxis": {
            "gridcolor": "white",
            "linecolor": "white",
            "ticks": ""
           }
          },
          "title": {
           "x": 0.05
          },
          "xaxis": {
           "automargin": true,
           "gridcolor": "white",
           "linecolor": "white",
           "ticks": "",
           "title": {
            "standoff": 15
           },
           "zerolinecolor": "white",
           "zerolinewidth": 2
          },
          "yaxis": {
           "automargin": true,
           "gridcolor": "white",
           "linecolor": "white",
           "ticks": "",
           "title": {
            "standoff": 15
           },
           "zerolinecolor": "white",
           "zerolinewidth": 2
          }
         }
        },
        "title": {
         "text": "Apple Total Assets value over time (Per Company 10K statement filed with SEC)"
        },
        "width": 1000,
        "xaxis": {
         "anchor": "y",
         "domain": [
          0,
          0.94
         ],
         "title": {
          "text": "Time"
         }
        },
        "yaxis": {
         "anchor": "x",
         "domain": [
          0,
          1
         ],
         "title": {
          "text": "Total Assets value (USD)"
         }
        },
        "yaxis2": {
         "anchor": "x",
         "overlaying": "y",
         "side": "right"
        }
       }
      }
     },
     "metadata": {},
     "output_type": "display_data"
    }
   ],
   "source": [
    "import plotly.graph_objects as go\n",
    "from plotly.subplots import make_subplots\n",
    "fig = make_subplots(specs=[[{\"secondary_y\": True}]])\n",
    "fig.add_trace(go.Scatter(\n",
    "    x=assets_timeserie[\"end\"],\n",
    "    y=assets_timeserie[\"val\"],\n",
    "    name='Total Assets value (USD)',\n",
    "))\n",
    "fig.update_layout(\n",
    "    width=1000,\n",
    "    height=700,\n",
    "    paper_bgcolor='white',\n",
    "    plot_bgcolor='#fafafa',\n",
    "    hovermode='closest',\n",
    "    title=\"Apple Total Assets value over time (Per Company 10K statement filed with SEC)\",\n",
    "    xaxis = dict(\n",
    "        title=\"Time\"\n",
    "    ),\n",
    "    yaxis = dict(\n",
    "        title=\"Total Assets value (USD)\"\n",
    "    ),\n",
    "    showlegend=False)\n",
    "fig.show()"
   ]
  },
  {
   "cell_type": "code",
   "execution_count": null,
   "metadata": {},
   "outputs": [],
   "source": [
    "# The SEC API has a maximum request rate of 10 requests per second [6].\n",
    "# To prevent receiving error responses, one should include the following sleep command after every API call:\n",
    "\n",
    "# import time\n",
    "# time.sleep(.1)"
   ]
  }
 ],
 "metadata": {
  "interpreter": {
   "hash": "0b4d81354441f402e0b4051bd334ebbfbee07a3b61c0e47681d9f3a728ccf835"
  },
  "kernelspec": {
   "display_name": "Python 3.7.11 ('dev')",
   "language": "python",
   "name": "python3"
  },
  "language_info": {
   "codemirror_mode": {
    "name": "ipython",
    "version": 3
   },
   "file_extension": ".py",
   "mimetype": "text/x-python",
   "name": "python",
   "nbconvert_exporter": "python",
   "pygments_lexer": "ipython3",
   "version": "3.7.11"
  },
  "orig_nbformat": 4
 },
 "nbformat": 4,
 "nbformat_minor": 2
}
