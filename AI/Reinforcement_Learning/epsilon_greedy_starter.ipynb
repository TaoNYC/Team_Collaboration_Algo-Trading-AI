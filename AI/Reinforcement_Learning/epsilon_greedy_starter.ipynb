{
 "cells": [
  {
   "cell_type": "code",
   "execution_count": 1,
   "metadata": {},
   "outputs": [],
   "source": [
    "import matplotlib.pyplot as plt\n",
    "import numpy as np"
   ]
  },
  {
   "cell_type": "code",
   "execution_count": 2,
   "metadata": {},
   "outputs": [],
   "source": [
    "NUM_TRIALS = 10000\n",
    "EPS = 0.1\n",
    "BANDIT_PROBABILITIES = [0.2, 0.5, 0.75]"
   ]
  },
  {
   "cell_type": "code",
   "execution_count": 3,
   "metadata": {},
   "outputs": [
    {
     "data": {
      "text/plain": [
       "3"
      ]
     },
     "execution_count": 3,
     "metadata": {},
     "output_type": "execute_result"
    }
   ],
   "source": [
    "len(BANDIT_PROBABILITIES)"
   ]
  },
  {
   "cell_type": "code",
   "execution_count": 4,
   "metadata": {},
   "outputs": [],
   "source": [
    "class Bandit:\n",
    "  def __init__(self, p):\n",
    "    # p: the win rate\n",
    "    self.p = p\n",
    "    self.p_estimate = 0 # TODO\n",
    "    self.N = 0 # TODO number of samples collected so far\n",
    "\n",
    "  def pull(self):\n",
    "    # draw a 1 with probability p\n",
    "    return np.random.random() < self.p # NOTE that True is equivalent to 1 in python\n",
    "\n",
    "  def update(self, x):\n",
    "    self.N = self.N + 1 # TODO\n",
    "    # self.p_estimate = self.p_estimate + (x-self.p_estimate)/self.N # TODO devive from the formula calculating mean of Xn using X(n-1) and x, which is the exactly same as the formula below\n",
    "    self.p_estimate = ((self.N-1)*self.p_estimate + x)/self.N # devive from the formula calculating mean of Xn using X(n-1) and x, which is the exactly same as the formula above"
   ]
  },
  {
   "cell_type": "code",
   "execution_count": 5,
   "metadata": {},
   "outputs": [],
   "source": [
    "def experiment():\n",
    "  bandits = [Bandit(p) for p in BANDIT_PROBABILITIES]\n",
    "\n",
    "  rewards = np.zeros(NUM_TRIALS) # returnn a new array of all zeros of given shape, so all rewards are 0 to begin with\n",
    "  num_times_explored = 0\n",
    "  num_times_exploited = 0\n",
    "  num_optimal = 0\n",
    "  optimal_j = np.argmax([b.p for b in bandits]) # argmax: return the index of the maxium values \n",
    "  print(\"optimal j:\", optimal_j)\n",
    "\n",
    "  for i in range(NUM_TRIALS):\n",
    "\n",
    "    # use epsilon-greedy to select the next bandit\n",
    "    if np.random.random() < EPS:\n",
    "      num_times_explored += 1\n",
    "      j = np.random.randint(len(BANDIT_PROBABILITIES))# TODO not for Len() function high bound is EXCLUSIVE\n",
    "    else:\n",
    "      num_times_exploited += 1\n",
    "      j = np.argmax([b.p_estimate for b in bandits])# TODO j is the largest of the projected bandit mean, NOTE do NOT forget the square bracket!\n",
    "\n",
    "    if j == optimal_j:\n",
    "      num_optimal += 1\n",
    "\n",
    "    # pull the arm for the bandit with the largest sample\n",
    "    x = bandits[j].pull()\n",
    "\n",
    "    # update rewards log\n",
    "    rewards[i] = x\n",
    "\n",
    "    # update the distribution for the bandit whose arm we just pulled\n",
    "    bandits[j].update(x)\n",
    "\n",
    "\n",
    "  # print mean estimates for each bandit\n",
    "  for b in bandits:\n",
    "    print(\"mean estimate:\", b.p_estimate)\n",
    "\n",
    "  # print total reward\n",
    "  print(\"total reward earned:\", rewards.sum())\n",
    "  print(\"overall win rate:\", rewards.sum() / NUM_TRIALS)\n",
    "  print(\"num_times_explored:\", num_times_explored)\n",
    "  print(\"num_times_exploited:\", num_times_exploited)\n",
    "  print(\"num times selected optimal bandit:\", num_optimal)\n",
    "\n",
    "  # plot the results\n",
    "  cumulative_rewards = np.cumsum(rewards)\n",
    "  win_rates = cumulative_rewards / (np.arange(NUM_TRIALS) + 1)\n",
    "  plt.plot(win_rates)\n",
    "  plt.plot(np.ones(NUM_TRIALS)*np.max(BANDIT_PROBABILITIES))\n",
    "  plt.show()"
   ]
  },
  {
   "cell_type": "code",
   "execution_count": 6,
   "metadata": {},
   "outputs": [
    {
     "name": "stdout",
     "output_type": "stream",
     "text": [
      "optimal j: 2\n",
      "mean estimate: 0.21893491124260367\n",
      "mean estimate: 0.5337423312883435\n",
      "mean estimate: 0.7518209083119114\n",
      "total reward earned: 7267.0\n",
      "overall win rate: 0.7267\n",
      "num_times_explored: 996\n",
      "num_times_exploited: 9004\n",
      "num times selected optimal bandit: 9336\n"
     ]
    },
    {
     "data": {
      "image/png": "[encoded data removed]",
      "text/plain": [
       "<Figure size 432x288 with 1 Axes>"
      ]
     },
     "metadata": {
      "needs_background": "light"
     },
     "output_type": "display_data"
    }
   ],
   "source": [
    "if __name__ == \"__main__\":\n",
    "    experiment()"
   ]
  },
  {
   "cell_type": "code",
   "execution_count": null,
   "metadata": {},
   "outputs": [],
   "source": []
  },
  {
   "cell_type": "code",
   "execution_count": null,
   "metadata": {},
   "outputs": [],
   "source": []
  }
 ],
 "metadata": {
  "kernelspec": {
   "display_name": "dev2",
   "language": "python",
   "name": "dev2"
  },
  "language_info": {
   "codemirror_mode": {
    "name": "ipython",
    "version": 3
   },
   "file_extension": ".py",
   "mimetype": "text/x-python",
   "name": "python",
   "nbconvert_exporter": "python",
   "pygments_lexer": "ipython3",
   "version": "3.7.11"
  },
  "orig_nbformat": 4
 },
 "nbformat": 4,
 "nbformat_minor": 2
}
